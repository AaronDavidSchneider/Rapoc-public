{
 "cells": [
  {
   "cell_type": "markdown",
   "metadata": {
    "jupyter": {
     "outputs_hidden": true
    }
   },
   "source": [
    "# RAPOC\n",
    "## Rosseland and Planck Opacity Converter\n",
    "\n",
    "Welcome to the `RAPOC` (Rosseland And Planck Opacity Converter) quick-start guide. This notebook is an interactive instruction manual that will demonstrate how `RAPOC` can be used and how it can be included in one's own code.\n",
    "\n",
    "\n",
    "## Input\n",
    "\n",
    "The only input required by `RAPOC` is the opacity data. Opacity data can be directly downloaded from dedicated repositories such as ExoMol or, instead, by a custom made Python dictionary. In this example, the water opacities from ExoMol will be used. These can be downloaded from http://exomol.com/db/H2O/1H2-16O/POKAZATEL/1H2-16O__POKAZATEL__R15000_0.3-50mu.xsec.TauREx.h5 After this, they should be copied or moved into the `examples` directory. However, if other molecules are required then they can be downloaded here: http://exomol.com/data/data-types/opacity/."
   ]
  },
  {
   "cell_type": "code",
   "execution_count": null,
   "metadata": {},
   "outputs": [],
   "source": [
    "input_file = '1H2-16O__POKAZATEL__R15000_0.3-50mu.xsec.TauREx.h5'"
   ]
  },
  {
   "cell_type": "markdown",
   "metadata": {},
   "source": [
    "## Import and initialise\n",
    "\n",
    "Once the data is ready, the required models can be imported and initialised. In this example, both the Rosseland and Planck models will be used."
   ]
  },
  {
   "cell_type": "code",
   "execution_count": 2,
   "metadata": {},
   "outputs": [],
   "source": [
    "from rapoc import Rosseland, Planck\n",
    "\n",
    "ross = Rosseland(input_data=input_file)\n",
    "plan = Planck(input_data=input_file)"
   ]
  },
  {
   "cell_type": "markdown",
   "metadata": {},
   "source": [
    "## Input contents\n",
    "Once the classes have been initialised, a large amount of information from the input files becomes available to the user. Currently, the information content of the two classes is identical. \n",
    "This can be seen by printing the data. As one can see, all of the numbers have units, which is provided by the `astropy.units` packages."
   ]
  },
  {
   "cell_type": "code",
   "execution_count": 3,
   "metadata": {},
   "outputs": [
    {
     "name": "stdout",
     "output_type": "stream",
     "text": [
      "molecular name\n",
      "H2O\n",
      "molecular mass\n",
      "2.991508785951112e-23 g / ct\n",
      "temperature grid\n",
      "[ 100.  200.  300.  400.  500.  600.  700.  800.  900. 1000. 1100. 1200.\n",
      " 1300. 1400. 1500. 1600. 1700. 1800. 1900. 2000. 2200. 2400. 2600. 2800.\n",
      " 3000. 3200. 3400.] K\n",
      "pressure grid\n",
      "[1.00000000e+00 2.15443469e+00 4.64158883e+00 1.00000000e+01\n",
      " 2.15443469e+01 4.64158883e+01 1.00000000e+02 2.15443469e+02\n",
      " 4.64158883e+02 1.00000000e+03 2.15443469e+03 4.64158883e+03\n",
      " 1.00000000e+04 2.15443469e+04 4.64158883e+04 1.00000000e+05\n",
      " 2.15443469e+05 4.64158883e+05 1.00000000e+06 2.15443469e+06\n",
      " 4.64158883e+06 1.00000000e+07] N / m2\n",
      "wavenumber grid\n",
      "[  199.99326855   200.00660143   200.01993521 ... 33328.88933329\n",
      " 33331.11125925 33333.33333333] 1 / cm\n",
      "wavelength grid\n",
      "[50.00168292 49.9983497  49.9950167  ...  0.30004     0.30002\n",
      "  0.3       ] um\n",
      "frequency grid\n",
      "[5.99564736e+12 5.99604707e+12 5.99644680e+12 ... 9.99174966e+14\n",
      " 9.99241577e+14 9.99308193e+14] 1 / s\n",
      "ktable\n",
      "[[[8.74265301e-05 8.82690797e-05 8.91244468e-05 ... 1.91263498e-08\n",
      "   1.33664213e-10 1.84423352e-11]\n",
      "  [2.02391686e-04 2.03954157e-04 2.05693544e-04 ... 1.48280340e-08\n",
      "   5.26584523e-10 2.82782030e-10]\n",
      "  [2.43997371e-04 2.25533217e-04 2.16697403e-04 ... 1.24703343e-08\n",
      "   2.61514805e-09 9.92770376e-10]\n",
      "  ...\n",
      "  [5.33278631e+01 4.81878078e+01 2.95233286e+01 ... 4.64745778e-08\n",
      "   5.85920531e-08 6.74199446e-08]\n",
      "  [5.69416339e+02 7.84560947e+02 3.94663851e+02 ... 4.50011851e-08\n",
      "   5.56670718e-08 6.43968738e-08]\n",
      "  [2.74406419e+01 1.05551448e+02 2.85511881e+02 ... 4.31811755e-08\n",
      "   5.25041220e-08 6.08889671e-08]]\n",
      "\n",
      " [[1.92338464e-04 1.94192101e-04 1.96073896e-04 ... 1.91092433e-08\n",
      "   1.33690117e-10 1.83851799e-11]\n",
      "  [4.45262559e-04 4.48699576e-04 4.52526077e-04 ... 1.47971300e-08\n",
      "   5.26615306e-10 2.82712645e-10]\n",
      "  [5.36688867e-04 4.96128507e-04 4.76711365e-04 ... 1.24555171e-08\n",
      "   2.61394140e-09 9.94537152e-10]\n",
      "  ...\n",
      "  [5.33240704e+01 4.81867649e+01 2.95243773e+01 ... 4.64745895e-08\n",
      "   5.85920527e-08 6.74199342e-08]\n",
      "  [5.69320770e+02 7.84429869e+02 3.94606969e+02 ... 4.50011953e-08\n",
      "   5.56670713e-08 6.43968638e-08]\n",
      "  [2.74540113e+01 1.05560321e+02 2.85499140e+02 ... 4.31811847e-08\n",
      "   5.25041219e-08 6.08889577e-08]]\n",
      "\n",
      " [[4.02162636e-04 4.06038321e-04 4.09973112e-04 ... 1.90874416e-08\n",
      "   1.33914686e-10 1.83946463e-11]\n",
      "  [9.31006632e-04 9.38191618e-04 9.46191901e-04 ... 1.48187522e-08\n",
      "   5.26380979e-10 2.82751457e-10]\n",
      "  [1.12186536e-03 1.03723493e-03 9.96693238e-04 ... 1.24548329e-08\n",
      "   2.61468925e-09 9.93904996e-10]\n",
      "  ...\n",
      "  [5.19958169e+01 5.31496928e+01 3.29474578e+01 ... 4.64303377e-08\n",
      "   5.85933866e-08 6.74670706e-08]\n",
      "  [5.22278438e+02 7.21296911e+02 3.62019980e+02 ... 4.50116223e-08\n",
      "   5.56650381e-08 6.43862971e-08]\n",
      "  [2.74807483e+01 1.05578071e+02 2.85473673e+02 ... 4.31812030e-08\n",
      "   5.25041220e-08 6.08889390e-08]]\n",
      "\n",
      " ...\n",
      "\n",
      " [[1.80215396e+02 1.81819759e+02 1.83506044e+02 ... 3.45201116e-09\n",
      "   5.45365846e-09 5.07151469e-09]\n",
      "  [4.17078242e+02 4.20797943e+02 4.24717593e+02 ... 4.88117922e-09\n",
      "   6.31349681e-09 6.76986058e-09]\n",
      "  [3.90575095e+02 3.93751079e+02 3.97112454e+02 ... 6.91188688e-09\n",
      "   9.07969856e-09 9.21567544e-09]\n",
      "  ...\n",
      "  [1.67267736e+02 1.68654143e+02 1.69991431e+02 ... 5.38409687e-08\n",
      "   5.82246684e-08 5.94057403e-08]\n",
      "  [1.48134558e+02 1.49319452e+02 1.50487558e+02 ... 5.16089647e-08\n",
      "   5.54605384e-08 5.65844674e-08]\n",
      "  [1.31604315e+02 1.32640364e+02 1.33625994e+02 ... 4.90578560e-08\n",
      "   5.24318454e-08 5.34968289e-08]]\n",
      "\n",
      " [[3.21577462e+02 3.23905360e+02 3.26322737e+02 ... 4.40729741e-09\n",
      "   5.25760086e-09 5.02639275e-09]\n",
      "  [7.72181086e+02 7.78000602e+02 7.84069729e+02 ... 5.85794280e-09\n",
      "   6.67434441e-09 7.26110347e-09]\n",
      "  [7.35098518e+02 7.40277617e+02 7.45706915e+02 ... 7.66217388e-09\n",
      "   9.20643505e-09 9.98074979e-09]\n",
      "  ...\n",
      "  [1.40515256e+02 1.41071959e+02 1.41571741e+02 ... 5.39223923e-08\n",
      "   5.72267588e-08 5.67245526e-08]\n",
      "  [1.25552516e+02 1.26042368e+02 1.26475922e+02 ... 5.16809435e-08\n",
      "   5.45693301e-08 5.40727858e-08]\n",
      "  [1.12547227e+02 1.12971080e+02 1.13353720e+02 ... 4.91131273e-08\n",
      "   5.16362402e-08 5.11587622e-08]]\n",
      "\n",
      " [[3.93525179e+02 3.95049164e+02 3.96592905e+02 ... 5.27956411e-09\n",
      "   5.21382915e-09 5.21231168e-09]\n",
      "  [1.02293854e+03 1.02740572e+03 1.03195397e+03 ... 7.00699388e-09\n",
      "   6.92216393e-09 7.26549701e-09]\n",
      "  [1.02619306e+03 1.03050080e+03 1.03490883e+03 ... 8.67647518e-09\n",
      "   9.08994817e-09 9.71954350e-09]\n",
      "  ...\n",
      "  [1.17396959e+02 1.17530578e+02 1.17652825e+02 ... 5.28492359e-08\n",
      "   5.48523241e-08 5.44350219e-08]\n",
      "  [1.05640922e+02 1.05762812e+02 1.05873113e+02 ... 5.06304156e-08\n",
      "   5.23904396e-08 5.19590328e-08]\n",
      "  [9.54317693e+01 9.55413084e+01 9.56421325e+01 ... 4.81001396e-08\n",
      "   4.96453693e-08 4.92142966e-08]]] m2 / kg\n"
     ]
    }
   ],
   "source": [
    "print('molecular name')\n",
    "print(ross.mol)\n",
    "\n",
    "print('molecular mass')\n",
    "print(plan.mol_mass)\n",
    "\n",
    "print('temperature grid')\n",
    "print(ross.temperature_grid)\n",
    "\n",
    "print('pressure grid')\n",
    "print(plan.pressure_grid)\n",
    "\n",
    "print('wavenumber grid')\n",
    "print(ross.wavenumber_grid)\n",
    "\n",
    "print('wavelength grid')\n",
    "print(plan.wavelength_grid)\n",
    "\n",
    "print('frequency grid')\n",
    "print(ross.frequency_grid)\n",
    "\n",
    "print('ktable')\n",
    "print(plan.ktable)"
   ]
  },
  {
   "cell_type": "markdown",
   "metadata": {},
   "source": [
    "## Mean opacity estimation\n",
    "\n",
    "### Indicate the input parameters\n",
    "\n",
    "To estimate the mean opacities, a pressure, temperature and wavelength (or wavenumber or frequency) range is required as inputs. In order to avoid confusion, astropy.units should be used to indicate the units. Otherwise, `Pa` are assumed for pressure and `K` for temperature. In order to indicate whether wavelength, wavenumbers or frequency are used, the appropriate units should be given. The `RAPOC` code will interpret the parameters being used from their units.\n",
    "Pressure and temperature can be either single values or lists. In the first case, the code will return a single value, as shown in the following example. In the latter case, `RAPOC` will return an array with dimensions matching the inputs."
   ]
  },
  {
   "cell_type": "code",
   "execution_count": 4,
   "metadata": {},
   "outputs": [],
   "source": [
    "import astropy.units as u\n",
    "\n",
    "P = 1000.0 *u.Pa\n",
    "T = 1000.0 *u.K\n",
    "wl = (1 * u.um, 10 * u.um)"
   ]
  },
  {
   "cell_type": "markdown",
   "metadata": {},
   "source": [
    "### Calculating opacities using the `closest` method\n",
    "The fastest estimation method is the `closest` mode. Using this mode, the code looks into the input data’s pressure and temperature grids for the closest pressure and temperature to the one indicated. After this, it will return the mean opacity value requested."
   ]
  },
  {
   "cell_type": "code",
   "execution_count": 5,
   "metadata": {},
   "outputs": [
    {
     "name": "stdout",
     "output_type": "stream",
     "text": [
      "0.004176211148085985 m2 / kg\n",
      "17.946602758752658 m2 / kg\n"
     ]
    }
   ],
   "source": [
    "r_estimate = ross.estimate(P_input = P, T_input=T, band=wl, mode='closest')\n",
    "print(r_estimate)\n",
    "\n",
    "p_estimate = plan.estimate(P_input = P, T_input=T, band=wl, mode='closest')\n",
    "print(p_estimate)"
   ]
  },
  {
   "cell_type": "markdown",
   "metadata": {},
   "source": [
    "A plot can be generated to illustrate the difference between the calculated mean opacities and the raw data."
   ]
  },
  {
   "cell_type": "code",
   "execution_count": 6,
   "metadata": {},
   "outputs": [
    {
     "data": {
      "application/vnd.jupyter.widget-view+json": {
       "model_id": "949abac5550e4f65841dc76ce3c35a2a",
       "version_major": 2,
       "version_minor": 0
      },
      "text/plain": [
       "Canvas(toolbar=Toolbar(toolitems=[('Home', 'Reset original view', 'home', 'home'), ('Back', 'Back to previous …"
      ]
     },
     "metadata": {},
     "output_type": "display_data"
    },
    {
     "data": {
      "application/vnd.jupyter.widget-view+json": {
       "model_id": "d5d8566bef9b4282a61056985cbc189b",
       "version_major": 2,
       "version_minor": 0
      },
      "text/plain": [
       "Canvas(toolbar=Toolbar(toolitems=[('Home', 'Reset original view', 'home', 'home'), ('Back', 'Back to previous …"
      ]
     },
     "metadata": {},
     "output_type": "display_data"
    }
   ],
   "source": [
    "%matplotlib widget\n",
    "\n",
    "fig0, ax0 = ross.estimate_plot(P_input = P, T_input=T, band=wl, mode='closest')\n",
    "\n",
    "fig1, ax1 = plan.estimate_plot(P_input = P, T_input=T, band=wl, mode='closest')"
   ]
  },
  {
   "cell_type": "markdown",
   "metadata": {},
   "source": [
    "### Calculating opacities using interpolation methods\n",
    "Using the interpolation method it is possible to explore temperature and pressure values that are not in the input grid. To do so, `scipy.interpolate.griddata` is used. This packages grants access to two interpolation modes: `linear`, `cubic`.\n",
    "\n",
    "This mode may be slow because the code needs to produce a map to estimate the mean opacities for each value of the data grid. To make this process faster, `RAPOC` will continue to reuse this map until the user asks for estimates in another wavelength range. Only then would `RAPOC` produce a new map."
   ]
  },
  {
   "cell_type": "code",
   "execution_count": 7,
   "metadata": {},
   "outputs": [
    {
     "name": "stderr",
     "output_type": "stream",
     "text": [
      "/home/lorenzo/anaconda3/envs/py3.8/lib/python3.8/site-packages/rapoc/models/model.py:323: UserWarning: Computing map.\n",
      "  warnings.warn('Computing map.', UserWarning)\n"
     ]
    },
    {
     "name": "stdout",
     "output_type": "stream",
     "text": [
      "0.004176211148085985 m2 / kg\n",
      "17.946602758752658 m2 / kg\n"
     ]
    }
   ],
   "source": [
    "r_estimate = ross.estimate(P_input = P, T_input=T, band=wl, mode='linear')\n",
    "print(r_estimate)\n",
    "\n",
    "p_estimate = plan.estimate(P_input = P, T_input=T, band=wl, mode='linear')\n",
    "print(p_estimate)"
   ]
  },
  {
   "cell_type": "markdown",
   "metadata": {},
   "source": [
    "To illustrate the efficacy of `RAPOC`, the mean opacities can be estimated and plotted for a list of temperatures and pressures."
   ]
  },
  {
   "cell_type": "code",
   "execution_count": 8,
   "metadata": {},
   "outputs": [
    {
     "name": "stdout",
     "output_type": "stream",
     "text": [
      "[[0.00094728 0.03303942 0.17086334]\n",
      " [0.00484263 0.08600765 0.21673218]] m2 / kg\n",
      "[[27.18478963 17.36108261  8.57782242]\n",
      " [27.17086583 17.78923892  8.8249388 ]] m2 / kg\n"
     ]
    },
    {
     "data": {
      "application/vnd.jupyter.widget-view+json": {
       "model_id": "f64c4f88fbc340b48e1ff89bd7bba7b2",
       "version_major": 2,
       "version_minor": 0
      },
      "text/plain": [
       "Canvas(toolbar=Toolbar(toolitems=[('Home', 'Reset original view', 'home', 'home'), ('Back', 'Back to previous …"
      ]
     },
     "metadata": {},
     "output_type": "display_data"
    },
    {
     "data": {
      "application/vnd.jupyter.widget-view+json": {
       "model_id": "dd3c435ba72e4f90a6a76ba1f0e70662",
       "version_major": 2,
       "version_minor": 0
      },
      "text/plain": [
       "Canvas(toolbar=Toolbar(toolitems=[('Home', 'Reset original view', 'home', 'home'), ('Back', 'Back to previous …"
      ]
     },
     "metadata": {},
     "output_type": "display_data"
    }
   ],
   "source": [
    "P = [1, 10 ] *u.bar\n",
    "T = [500.0, 1000.0, 2000.0] *u.K\n",
    "\n",
    "r_estimate = ross.estimate(P_input = P, T_input=T, band=wl, mode='linear')\n",
    "print(r_estimate)\n",
    "\n",
    "p_estimate = plan.estimate(P_input = P, T_input=T, band=wl, mode='linear')\n",
    "print(p_estimate)\n",
    "\n",
    "fig2, ax2 = ross.estimate_plot(P_input = P, T_input=T, band=wl, mode='linear')\n",
    "\n",
    "fig3, ax3 = plan.estimate_plot(P_input = P, T_input=T, band=wl, mode='linear')"
   ]
  },
  {
   "cell_type": "markdown",
   "metadata": {},
   "source": [
    "If instead two distinct wavelength bands are required, two models can be used at the same time in order to optimise the map building procedure.\n",
    "\n",
    "Once the map has been built, it is possible to verify the wavelength band by calling upon the `band` attribute:"
   ]
  },
  {
   "cell_type": "code",
   "execution_count": 9,
   "metadata": {
    "collapsed": false,
    "jupyter": {
     "outputs_hidden": false
    },
    "pycharm": {
     "name": "#%%\n"
    }
   },
   "outputs": [
    {
     "name": "stdout",
     "output_type": "stream",
     "text": [
      "maps built:\n",
      "ross1 band: (<Quantity 1. um>, <Quantity 10. um>)\n",
      "ross2 band: (<Quantity 10. um>, <Quantity 50. um>)\n",
      "0.0009472775213717088 m2 / kg 0.009915775679228966 m2 / kg\n",
      "0.03303941548098997 m2 / kg 0.36504089402541 m2 / kg\n",
      "0.17086334490692245 m2 / kg 14.890719669682868 m2 / kg\n"
     ]
    }
   ],
   "source": [
    "wl1 = (1 * u.um, 10 * u.um)\n",
    "ross1 = Rosseland(input_data=input_file)\n",
    "ross1.map(band=wl1)\n",
    "wl2 = (10 * u.um, 50 * u.um)\n",
    "ross2 = Rosseland(input_data=input_file)\n",
    "ross2.map(band=wl2)\n",
    "print('maps built:')\n",
    "print('ross1 band:', ross1.band)\n",
    "print('ross2 band:', ross2.band)\n",
    "\n",
    "\n",
    "P = 1 *u.bar\n",
    "T = [500.0, 1000.0, 2000.0] *u.K\n",
    "for t in T:\n",
    "    r1 = ross1.estimate(P_input = P, T_input=t, band=wl1, mode='linear')\n",
    "    r2 = ross2.estimate(P_input = P, T_input=t, band=wl2, mode='linear')\n",
    "    print(r1, r2)\n"
   ]
  },
  {
   "cell_type": "code",
   "execution_count": null,
   "metadata": {},
   "outputs": [],
   "source": []
  }
 ],
 "metadata": {
  "kernelspec": {
   "display_name": "Python 3",
   "language": "python",
   "name": "python3"
  },
  "language_info": {
   "codemirror_mode": {
    "name": "ipython",
    "version": 3
   },
   "file_extension": ".py",
   "mimetype": "text/x-python",
   "name": "python",
   "nbconvert_exporter": "python",
   "pygments_lexer": "ipython3",
   "version": "3.8.5"
  }
 },
 "nbformat": 4,
 "nbformat_minor": 4
}